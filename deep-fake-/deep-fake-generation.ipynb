{
 "cells": [
  {
   "cell_type": "code",
   "execution_count": 7,
   "metadata": {},
   "outputs": [
    {
     "name": "stderr",
     "output_type": "stream",
     "text": [
      "Loading pipeline components...: 100%|██████████| 7/7 [00:54<00:00,  7.73s/it]\n"
     ]
    }
   ],
   "source": [
    "import torch\n",
    "from diffusers import StableDiffusionImg2ImgPipeline\n",
    "from PIL import Image\n",
    "import requests\n",
    "from io import BytesIO\n",
    "\n",
    "# Load the pre-trained Stable Diffusion model\n",
    "model_id = \"runwayml/stable-diffusion-v1-5\"\n",
    "pipe = StableDiffusionImg2ImgPipeline.from_pretrained(model_id, torch_dtype=torch.float16)\n",
    "pipe = pipe.to(\"cuda\")  # Move the model to GPU for faster processing"
   ]
  },
  {
   "cell_type": "code",
   "execution_count": 9,
   "metadata": {},
   "outputs": [],
   "source": [
    "def load_image(image_path_or_url):\n",
    "    if image_path_or_url.startswith('http'):\n",
    "        response = requests.get(image_path_or_url)\n",
    "        image = Image.open(BytesIO(response.content)).convert(\"RGB\")\n",
    "    else:\n",
    "        image = Image.open(image_path_or_url).convert(\"RGB\")\n",
    "    return image\n",
    "\n",
    "input_image = load_image(\"/home/vu-lab03-pc24/deep-fake/images/shreeleela.jpg\")  \n",
    "width, height = input_image.size\n",
    "input_image = input_image.resize((width, height))"
   ]
  },
  {
   "cell_type": "code",
   "execution_count": null,
   "metadata": {},
   "outputs": [
    {
     "name": "stderr",
     "output_type": "stream",
     "text": [
      "100%|██████████| 35/35 [00:07<00:00,  4.63it/s]\n"
     ]
    }
   ],
   "source": [
    "# Define the prompt and parameters\n",
    "prompt = (\n",
    "    \"A hyper-detailed, ultra-realistic portrait of the person from the input image, photorealistic, 8K resolution, \"\n",
    "    \"exceptionally lifelike facial features with visible skin pores, subtle imperfections, and natural micro-textures, \"\n",
    "    \"intricate eye details with realistic iris patterns, light reflections, and depth, individual hair strands with natural sheen and flow, \"\n",
    "    \"soft cinematic lighting with delicate shadows and highlights, perfectly balanced color tones, \"\n",
    "    \"professional studio photography quality, razor-sharp focus, micro-details like faint freckles or fine wrinkles, \"\n",
    "    \"dynamic depth of field, rendered in the style of Unreal Engine 5 hyper-realism, trending on ArtStation, \"\n",
    "    \"no digital noise or artifacts, maximum fidelity, lifelike presence and emotional authenticity\"\n",
    ")\n",
    "\n",
    "negative_prompt = (\n",
    "    \"blurry, low resolution, pixelated, grainy, distorted, unrealistic, cartoonish, oversaturated, \"\n",
    "    \"overexposed, underexposed, flat colors, dull, oversmoothed, overprocessed, synthetic look, plastic texture, \"\n",
    "    \"uncanny valley, bad anatomy, extra limbs, mutated hands, deformed face, disfigured, poorly drawn eyes, \"\n",
    "    \"poorly rendered skin, unnatural lighting, text, watermark, logo, signature, low quality, artifacts, amateurish\"\n",
    ")\n",
    "\n",
    "strength = 0.85  # Controls the influence of the input image on the output\n",
    "guidance_scale = 12.0  # Increased for stricter prompt adherence to enhance realism\n",
    "\n",
    "# Generate the image\n",
    "with torch.autocast(\"cuda\"):\n",
    "    output_image = pipe(prompt=prompt, \n",
    "                    image=input_image, \n",
    "                    strength=strength, \n",
    "                    guidance_scale=guidance_scale, \n",
    "                    negative_prompt=negative_prompt\n",
    "                ).images[0]"
   ]
  },
  {
   "cell_type": "code",
   "execution_count": 21,
   "metadata": {},
   "outputs": [
    {
     "name": "stdout",
     "output_type": "stream",
     "text": [
      "Deep fake image saved as 'shreeleela-deep_fake_output4.jpg'\n"
     ]
    }
   ],
   "source": [
    "output_image.save(\"shreeleela-deep_fake_output4.jpg\")\n",
    "print(\"Deep fake image saved as 'shreeleela-deep_fake_output4.jpg'\")"
   ]
  },
  {
   "cell_type": "markdown",
   "metadata": {},
   "source": []
  }
 ],
 "metadata": {
  "kernelspec": {
   "display_name": ".venv",
   "language": "python",
   "name": "python3"
  },
  "language_info": {
   "codemirror_mode": {
    "name": "ipython",
    "version": 3
   },
   "file_extension": ".py",
   "mimetype": "text/x-python",
   "name": "python",
   "nbconvert_exporter": "python",
   "pygments_lexer": "ipython3",
   "version": "3.12.3"
  }
 },
 "nbformat": 4,
 "nbformat_minor": 2
}
