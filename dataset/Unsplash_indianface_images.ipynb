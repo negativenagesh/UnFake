{
  "cells": [
    {
      "cell_type": "code",
      "execution_count": null,
      "metadata": {
        "colab": {
          "base_uri": "https://localhost:8080/"
        },
        "id": "Bb7z01Rvizdh",
        "outputId": "0ff7211f-dcec-443c-ef21-71f8b43ed988"
      },
      "outputs": [
        {
          "name": "stdout",
          "output_type": "stream",
          "text": [
            "There are 19618 images in the '/content/images' folder.\n"
          ]
        }
      ],
      "source": [
        "import os\n",
        "\n",
        "image_folder = '/content/images'\n",
        "image_count = 0\n",
        "\n",
        "for filename in os.listdir(image_folder):\n",
        "  if filename.endswith(('.jpg', '.jpeg', '.png', '.gif')):\n",
        "    image_count += 1\n",
        "\n",
        "print(f\"There are {image_count} images in the '{image_folder}' folder.\")"
      ]
    },
    {
      "cell_type": "markdown",
      "metadata": {},
      "source": [
        "1. Import Libraries: Imports requests for HTTP requests, os for file operations, and time for delays.\n",
        "2. Set API Access Key and URL: Defines the Unsplash API access key and the search endpoint URL.\n",
        "3. Set Headers and Parameters: Sets the authorization header with the access key and search parameters, including the query term and number of results per page.\n",
        "4. Create Directory for Images: Checks if the directory images3 exists and creates it if it doesn't.\n",
        "5. Initialize Pagination: Sets the starting page number for the search results.\n",
        "6. Main Loop to Fetch and Download Images:\n",
        "    1. Updates the page parameter for the current page number.\n",
        "    2. Sends a GET request to the Unsplash API.\n",
        "    3. Checks the response status code:\n",
        "        - If not 200, prints an error message.\n",
        "        - If 429 (rate limit exceeded), waits for the specified retry time and retries.\n",
        "        - Breaks the loop for other errors.\n",
        "    4. Converts the response to JSON.\n",
        "    5. If no results are found, prints a message and breaks the loop.\n",
        "    6. Iterates over the results to download images:\n",
        "        - Gets the image URL.\n",
        "        - Downloads the image content.\n",
        "        - Constructs the filename.\n",
        "        - Checks if the file already exists and skips if it does.\n",
        "        - Writes the image content to a file.\n",
        "        - Prints a success message.\n",
        "    7. Moves to the next page.\n",
        "    8. Waits for 1 second before the next request.\n",
        "7. Completion Message: Prints a message indicating that all images have been downloaded."
      ]
    },
    {
      "cell_type": "code",
      "execution_count": null,
      "metadata": {
        "id": "wIXUmMCglUJG"
      },
      "outputs": [],
      "source": [
        "import requests\n",
        "import os\n",
        "import time\n",
        "\n",
        "access_key = \"D0dsLVpUw5idCZRk9TbfNYZWJJVHIDlDIz2sCcR4CW8\"\n",
        "url = \"https://api.unsplash.com/search/photos\"\n",
        "headers = {\n",
        "    \"Authorization\": f\"Client-ID {access_key}\"\n",
        "}\n",
        "params = {\n",
        "    \"query\": \"Spectacles face\",\n",
        "    \"per_page\": 30\n",
        "}\n",
        "\n",
        "if not os.path.exists('images3'):\n",
        "    os.makedirs('images3')\n",
        "\n",
        "start_page = 185\n",
        "page_num = start_page\n",
        "\n",
        "while True:\n",
        "    params[\"page\"] = page_num\n",
        "\n",
        "    response = requests.get(url, headers=headers, params=params)\n",
        "\n",
        "    if response.status_code != 200:\n",
        "        print(f\"Failed to fetch page {page_num}. Status code: {response.status_code}\")\n",
        "\n",
        "        if response.status_code == 429:\n",
        "            retry_after = int(response.headers.get('Retry-After', 10))\n",
        "            print(f\"Rate limit exceeded. Retrying after {retry_after} seconds...\")\n",
        "            time.sleep(retry_after)\n",
        "            continue\n",
        "        else:\n",
        "            break\n",
        "\n",
        "    data = response.json()\n",
        "\n",
        "    if not data['results']:\n",
        "        print(\"No more images found.\")\n",
        "        break\n",
        "\n",
        "    for i, photo in enumerate(data['results']):\n",
        "        img_url = photo['urls']['regular']\n",
        "        try:\n",
        "            img_data = requests.get(img_url).content\n",
        "            filename = os.path.join('images3', f'image_page_{page_num}_num_{i}.jpg')\n",
        "\n",
        "            if os.path.exists(filename):\n",
        "                print(f\"Image {filename} already exists. Skipping...\")\n",
        "                continue\n",
        "\n",
        "            with open(filename, 'wb') as handler:\n",
        "                handler.write(img_data)\n",
        "            print(f\"Downloaded image {i + 1} from page {page_num}\")\n",
        "        except Exception as e:\n",
        "            print(f\"Failed to download image {i + 1} from page {page_num}: {e}\")\n",
        "\n",
        "    page_num += 1\n",
        "\n",
        "    time.sleep(1)\n",
        "\n",
        "print('All images downloaded successfully!')"
      ]
    }
  ],
  "metadata": {
    "colab": {
      "provenance": []
    },
    "kernelspec": {
      "display_name": ".venv",
      "language": "python",
      "name": "python3"
    },
    "language_info": {
      "name": "python",
      "version": "3.12.9"
    }
  },
  "nbformat": 4,
  "nbformat_minor": 0
}
