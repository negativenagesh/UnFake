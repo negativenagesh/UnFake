{
 "cells": [
  {
   "cell_type": "code",
   "execution_count": 1,
   "metadata": {},
   "outputs": [
    {
     "name": "stderr",
     "output_type": "stream",
     "text": [
      "/home/vu-lab03-pc24/deep-fake/.venv/lib/python3.12/site-packages/tqdm/auto.py:21: TqdmWarning: IProgress not found. Please update jupyter and ipywidgets. See https://ipywidgets.readthedocs.io/en/stable/user_install.html\n",
      "  from .autonotebook import tqdm as notebook_tqdm\n",
      "Fetching 15 files: 100%|██████████| 15/15 [03:46<00:00, 15.12s/it]\n",
      "Loading pipeline components...: 100%|██████████| 7/7 [00:00<00:00, 11.86it/s]\n"
     ]
    }
   ],
   "source": [
    "import torch\n",
    "from diffusers import StableDiffusionImg2ImgPipeline\n",
    "from PIL import Image\n",
    "import requests\n",
    "from io import BytesIO\n",
    "\n",
    "# Load the pre-trained Stable Diffusion model\n",
    "model_id = \"runwayml/stable-diffusion-v1-5\"\n",
    "pipe = StableDiffusionImg2ImgPipeline.from_pretrained(model_id, torch_dtype=torch.float16)\n",
    "pipe = pipe.to(\"cuda\")  # Move the model to GPU for faster processing"
   ]
  },
  {
   "cell_type": "code",
   "execution_count": 12,
   "metadata": {},
   "outputs": [],
   "source": [
    "def load_image(image_path_or_url):\n",
    "    if image_path_or_url.startswith('http'):\n",
    "        response = requests.get(image_path_or_url)\n",
    "        image = Image.open(BytesIO(response.content)).convert(\"RGB\")\n",
    "    else:\n",
    "        image = Image.open(image_path_or_url).convert(\"RGB\")\n",
    "    return image\n",
    "\n",
    "input_image = load_image(\"/home/vu-lab03-pc24/deep-fake/shreeleela.jpg\")  \n",
    "width, height = input_image.size\n",
    "input_image = input_image.resize((width, height))"
   ]
  },
  {
   "cell_type": "code",
   "execution_count": 15,
   "metadata": {},
   "outputs": [
    {
     "name": "stderr",
     "output_type": "stream",
     "text": [
      "100%|██████████| 32/32 [00:06<00:00,  4.67it/s]\n"
     ]
    }
   ],
   "source": [
    "# Define the prompt and parameters\n",
    "prompt = \"A very high-quality deep fake image of the person in the input image\"\n",
    "strength = 0.65  # Controls the influence of the input image on the output\n",
    "guidance_scale = 7.5  # Controls how closely the output follows the prompt\n",
    "\n",
    "# Generate the image\n",
    "with torch.autocast(\"cuda\"):\n",
    "    output_image = pipe(prompt=prompt, image=input_image, strength=strength, guidance_scale=guidance_scale).images[0]"
   ]
  },
  {
   "cell_type": "code",
   "execution_count": 16,
   "metadata": {},
   "outputs": [
    {
     "name": "stdout",
     "output_type": "stream",
     "text": [
      "Deep fake image saved as 'shreeleela-deep_fake_output.jpg'\n"
     ]
    }
   ],
   "source": [
    "output_image.save(\"shreeleela-deep_fake_output.jpg\")\n",
    "print(\"Deep fake image saved as 'shreeleela-deep_fake_output.jpg'\")"
   ]
  },
  {
   "cell_type": "code",
   "execution_count": null,
   "metadata": {},
   "outputs": [],
   "source": []
  }
 ],
 "metadata": {
  "kernelspec": {
   "display_name": ".venv",
   "language": "python",
   "name": "python3"
  },
  "language_info": {
   "codemirror_mode": {
    "name": "ipython",
    "version": 3
   },
   "file_extension": ".py",
   "mimetype": "text/x-python",
   "name": "python",
   "nbconvert_exporter": "python",
   "pygments_lexer": "ipython3",
   "version": "3.12.3"
  }
 },
 "nbformat": 4,
 "nbformat_minor": 2
}
